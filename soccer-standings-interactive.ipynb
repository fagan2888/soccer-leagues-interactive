{
 "cells": [
  {
   "cell_type": "markdown",
   "metadata": {},
   "source": [
    "### European Soccer Leagues, Interactive Standings Visualization\n",
    "\n",
    "1. Scrape the current table standings of each league (La Liga, Bundesliga, Premier League, Serie A, Ligue 1).\n",
    "2. Visualize the standings of each league in various interactive plots (bubble_2d, bubble_3d, boxplot, density).\n"
   ]
  },
  {
   "cell_type": "code",
   "execution_count": 1,
   "metadata": {
    "collapsed": false
   },
   "outputs": [
    {
     "name": "stdout",
     "output_type": "stream",
     "text": [
      "Aziz\n",
      "Tue Nov  3 23:17:32 EST 2015\n"
     ]
    }
   ],
   "source": [
    "%%bash\n",
    "whoami\n",
    "date"
   ]
  },
  {
   "cell_type": "markdown",
   "metadata": {},
   "source": [
    "<hr>\n",
    "Standings labels\n",
    "\n",
    "```\n",
    "P: Games Played\n",
    "W: Games Won\n",
    "D: Games Drawn\n",
    "L: Games Lost\n",
    "GS: Goals Scored\n",
    "GA: Goals Against\n",
    "Diff: Goals Difference\n",
    "Pts: Points\n",
    "```"
   ]
  },
  {
   "cell_type": "markdown",
   "metadata": {},
   "source": [
    "**Preview tables (sample) data**"
   ]
  },
  {
   "cell_type": "code",
   "execution_count": 32,
   "metadata": {
    "collapsed": false
   },
   "outputs": [
    {
     "name": "stdout",
     "output_type": "stream",
     "text": [
      "Premier League\n",
      "        P  W  D  L  GS  GA  Diff  Pts\n",
      "Team                                 \n",
      "1-MCI  11  8  1  2  26   9    17   25\n",
      "2-ARS  11  8  1  2  21   8    13   25\n",
      "3-LEI  11  6  4  1  23  19     4   22\n",
      "4-MUN  11  6  3  2  15   8     7   21\n",
      "5-TOT  11  5  5  1  19   9    10   20\n",
      "\n",
      "Bundesliga\n",
      "        P   W  D  L  GS  GA  Diff  Pts\n",
      "Team                                  \n",
      "1-BAY  11  10  1  0  33   4    29   31\n",
      "2-BVB  11   8  2  1  32  13    19   26\n",
      "3-WOB  11   6  3  2  17  13     4   21\n",
      "4-S04  11   6  2  3  14  13     1   20\n",
      "5-BMG  11   6  0  5  23  18     5   18\n",
      "\n",
      "Ligue 1\n",
      "        P   W  D  L  GS  GA  Diff  Pts\n",
      "Team                                  \n",
      "1-PSG  12  10  2  0  26   6    20   32\n",
      "2-LYO  12   6  4  2  16   7     9   22\n",
      "3-ANG  12   6  4  2  12   7     5   22\n",
      "4-ASS  12   7  1  4  17  14     3   22\n",
      "5-CAE  12   7  0  5  12  13    -1   21\n",
      "\n",
      "Serie A\n",
      "        P  W  D  L  GS  GA  Diff  Pts\n",
      "Team                                 \n",
      "1-FIO  11  8  0  3  22   9    13   24\n",
      "2-INT  11  7  3  1  11   7     4   24\n",
      "3-ROM  11  7  2  2  25  13    12   23\n",
      "4-NAP  11  6  4  1  21   8    13   22\n",
      "5-SAS  11  5  4  2  13  10     3   19\n",
      "\n",
      "La Liga\n",
      "        P  W  D  L  GS  GA  Diff  Pts\n",
      "Team                                 \n",
      "1-RMA  10  7  3  0  24   4    20   24\n",
      "2-FCB  10  8  0  2  22  12    10   24\n",
      "3-CEL  10  6  3  1  21  13     8   21\n",
      "4-ATM  10  6  2  2  15   6     9   20\n",
      "5-VIL  10  6  2  2  15   8     7   20\n",
      "\n"
     ]
    }
   ],
   "source": [
    "for l, df in leagues.items():\n",
    "    print(l)\n",
    "    print(df.head())\n",
    "    print"
   ]
  },
  {
   "cell_type": "markdown",
   "metadata": {},
   "source": [
    "#### Standings in an interactive `bubble_2d` plot"
   ]
  },
  {
   "cell_type": "code",
   "execution_count": 33,
   "metadata": {
    "collapsed": false
   },
   "outputs": [
    {
     "data": {
      "text/html": [
       "<iframe id=\"igraph\" scrolling=\"no\" style=\"border:none;\"seamless=\"seamless\" src=\"https://plot.ly/~iamaziz/687.embed\" height=\"525px\" width=\"100%\"></iframe>"
      ],
      "text/plain": [
       "<plotly.tools.PlotlyDisplay object>"
      ]
     },
     "execution_count": 33,
     "metadata": {},
     "output_type": "execute_result"
    }
   ],
   "source": [
    "py.iplot_mpl(figs_2d[0])"
   ]
  },
  {
   "cell_type": "code",
   "execution_count": 34,
   "metadata": {
    "collapsed": false
   },
   "outputs": [
    {
     "data": {
      "text/html": [
       "<iframe id=\"igraph\" scrolling=\"no\" style=\"border:none;\"seamless=\"seamless\" src=\"https://plot.ly/~iamaziz/689.embed\" height=\"525px\" width=\"100%\"></iframe>"
      ],
      "text/plain": [
       "<plotly.tools.PlotlyDisplay object>"
      ]
     },
     "execution_count": 34,
     "metadata": {},
     "output_type": "execute_result"
    }
   ],
   "source": [
    "py.iplot_mpl(figs_2d[1])"
   ]
  },
  {
   "cell_type": "code",
   "execution_count": 35,
   "metadata": {
    "collapsed": false
   },
   "outputs": [
    {
     "data": {
      "text/html": [
       "<iframe id=\"igraph\" scrolling=\"no\" style=\"border:none;\"seamless=\"seamless\" src=\"https://plot.ly/~iamaziz/691.embed\" height=\"525px\" width=\"100%\"></iframe>"
      ],
      "text/plain": [
       "<plotly.tools.PlotlyDisplay object>"
      ]
     },
     "execution_count": 35,
     "metadata": {},
     "output_type": "execute_result"
    }
   ],
   "source": [
    "py.iplot_mpl(figs_2d[2])"
   ]
  },
  {
   "cell_type": "code",
   "execution_count": 36,
   "metadata": {
    "collapsed": false
   },
   "outputs": [
    {
     "data": {
      "text/html": [
       "<iframe id=\"igraph\" scrolling=\"no\" style=\"border:none;\"seamless=\"seamless\" src=\"https://plot.ly/~iamaziz/693.embed\" height=\"525px\" width=\"100%\"></iframe>"
      ],
      "text/plain": [
       "<plotly.tools.PlotlyDisplay object>"
      ]
     },
     "execution_count": 36,
     "metadata": {},
     "output_type": "execute_result"
    }
   ],
   "source": [
    "py.iplot_mpl(figs_2d[3])"
   ]
  },
  {
   "cell_type": "code",
   "execution_count": 37,
   "metadata": {
    "collapsed": false
   },
   "outputs": [
    {
     "data": {
      "text/html": [
       "<iframe id=\"igraph\" scrolling=\"no\" style=\"border:none;\"seamless=\"seamless\" src=\"https://plot.ly/~iamaziz/695.embed\" height=\"525px\" width=\"100%\"></iframe>"
      ],
      "text/plain": [
       "<plotly.tools.PlotlyDisplay object>"
      ]
     },
     "execution_count": 37,
     "metadata": {},
     "output_type": "execute_result"
    }
   ],
   "source": [
    "py.iplot_mpl(figs_2d[4])"
   ]
  },
  {
   "cell_type": "markdown",
   "metadata": {},
   "source": [
    "#### Standings in an interactive `bubble_3d` plot"
   ]
  },
  {
   "cell_type": "code",
   "execution_count": 38,
   "metadata": {
    "collapsed": false
   },
   "outputs": [
    {
     "data": {
      "text/html": [
       "<iframe id=\"igraph\" scrolling=\"no\" style=\"border:none;\"seamless=\"seamless\" src=\"https://plot.ly/~iamaziz/697.embed\" height=\"525px\" width=\"100%\"></iframe>"
      ],
      "text/plain": [
       "<plotly.tools.PlotlyDisplay object>"
      ]
     },
     "execution_count": 38,
     "metadata": {},
     "output_type": "execute_result"
    }
   ],
   "source": [
    "py.iplot(figs_3d[0])"
   ]
  },
  {
   "cell_type": "code",
   "execution_count": 39,
   "metadata": {
    "collapsed": false
   },
   "outputs": [
    {
     "data": {
      "text/html": [
       "<iframe id=\"igraph\" scrolling=\"no\" style=\"border:none;\"seamless=\"seamless\" src=\"https://plot.ly/~iamaziz/699.embed\" height=\"525px\" width=\"100%\"></iframe>"
      ],
      "text/plain": [
       "<plotly.tools.PlotlyDisplay object>"
      ]
     },
     "execution_count": 39,
     "metadata": {},
     "output_type": "execute_result"
    }
   ],
   "source": [
    "py.iplot(figs_3d[1])"
   ]
  },
  {
   "cell_type": "code",
   "execution_count": 40,
   "metadata": {
    "collapsed": false
   },
   "outputs": [
    {
     "data": {
      "text/html": [
       "<iframe id=\"igraph\" scrolling=\"no\" style=\"border:none;\"seamless=\"seamless\" src=\"https://plot.ly/~iamaziz/701.embed\" height=\"525px\" width=\"100%\"></iframe>"
      ],
      "text/plain": [
       "<plotly.tools.PlotlyDisplay object>"
      ]
     },
     "execution_count": 40,
     "metadata": {},
     "output_type": "execute_result"
    }
   ],
   "source": [
    "py.iplot(figs_3d[2])"
   ]
  },
  {
   "cell_type": "code",
   "execution_count": 41,
   "metadata": {
    "collapsed": false
   },
   "outputs": [
    {
     "data": {
      "text/html": [
       "<iframe id=\"igraph\" scrolling=\"no\" style=\"border:none;\"seamless=\"seamless\" src=\"https://plot.ly/~iamaziz/703.embed\" height=\"525px\" width=\"100%\"></iframe>"
      ],
      "text/plain": [
       "<plotly.tools.PlotlyDisplay object>"
      ]
     },
     "execution_count": 41,
     "metadata": {},
     "output_type": "execute_result"
    }
   ],
   "source": [
    "py.iplot(figs_3d[3])"
   ]
  },
  {
   "cell_type": "code",
   "execution_count": 42,
   "metadata": {
    "collapsed": false
   },
   "outputs": [
    {
     "data": {
      "text/html": [
       "<iframe id=\"igraph\" scrolling=\"no\" style=\"border:none;\"seamless=\"seamless\" src=\"https://plot.ly/~iamaziz/705.embed\" height=\"525px\" width=\"100%\"></iframe>"
      ],
      "text/plain": [
       "<plotly.tools.PlotlyDisplay object>"
      ]
     },
     "execution_count": 42,
     "metadata": {},
     "output_type": "execute_result"
    }
   ],
   "source": [
    "py.iplot(figs_3d[4])"
   ]
  },
  {
   "cell_type": "markdown",
   "metadata": {},
   "source": [
    "#### Standings in an interactive `boxplot` plot"
   ]
  },
  {
   "cell_type": "code",
   "execution_count": 43,
   "metadata": {
    "collapsed": false
   },
   "outputs": [
    {
     "data": {
      "text/html": [
       "<iframe id=\"igraph\" scrolling=\"no\" style=\"border:none;\"seamless=\"seamless\" src=\"https://plot.ly/~iamaziz/707.embed\" height=\"525px\" width=\"100%\"></iframe>"
      ],
      "text/plain": [
       "<plotly.tools.PlotlyDisplay object>"
      ]
     },
     "execution_count": 43,
     "metadata": {},
     "output_type": "execute_result"
    }
   ],
   "source": [
    "py.iplot(figs_box[0])"
   ]
  },
  {
   "cell_type": "code",
   "execution_count": 44,
   "metadata": {
    "collapsed": false
   },
   "outputs": [
    {
     "data": {
      "text/html": [
       "<iframe id=\"igraph\" scrolling=\"no\" style=\"border:none;\"seamless=\"seamless\" src=\"https://plot.ly/~iamaziz/709.embed\" height=\"525px\" width=\"100%\"></iframe>"
      ],
      "text/plain": [
       "<plotly.tools.PlotlyDisplay object>"
      ]
     },
     "execution_count": 44,
     "metadata": {},
     "output_type": "execute_result"
    }
   ],
   "source": [
    "py.iplot(figs_box[1])"
   ]
  },
  {
   "cell_type": "code",
   "execution_count": 45,
   "metadata": {
    "collapsed": false
   },
   "outputs": [
    {
     "data": {
      "text/html": [
       "<iframe id=\"igraph\" scrolling=\"no\" style=\"border:none;\"seamless=\"seamless\" src=\"https://plot.ly/~iamaziz/711.embed\" height=\"525px\" width=\"100%\"></iframe>"
      ],
      "text/plain": [
       "<plotly.tools.PlotlyDisplay object>"
      ]
     },
     "execution_count": 45,
     "metadata": {},
     "output_type": "execute_result"
    }
   ],
   "source": [
    "py.iplot(figs_box[2])"
   ]
  },
  {
   "cell_type": "code",
   "execution_count": 46,
   "metadata": {
    "collapsed": false
   },
   "outputs": [
    {
     "data": {
      "text/html": [
       "<iframe id=\"igraph\" scrolling=\"no\" style=\"border:none;\"seamless=\"seamless\" src=\"https://plot.ly/~iamaziz/713.embed\" height=\"525px\" width=\"100%\"></iframe>"
      ],
      "text/plain": [
       "<plotly.tools.PlotlyDisplay object>"
      ]
     },
     "execution_count": 46,
     "metadata": {},
     "output_type": "execute_result"
    }
   ],
   "source": [
    "py.iplot(figs_box[3])"
   ]
  },
  {
   "cell_type": "code",
   "execution_count": 47,
   "metadata": {
    "collapsed": false
   },
   "outputs": [
    {
     "data": {
      "text/html": [
       "<iframe id=\"igraph\" scrolling=\"no\" style=\"border:none;\"seamless=\"seamless\" src=\"https://plot.ly/~iamaziz/715.embed\" height=\"525px\" width=\"100%\"></iframe>"
      ],
      "text/plain": [
       "<plotly.tools.PlotlyDisplay object>"
      ]
     },
     "execution_count": 47,
     "metadata": {},
     "output_type": "execute_result"
    }
   ],
   "source": [
    "py.iplot(figs_box[4])"
   ]
  },
  {
   "cell_type": "markdown",
   "metadata": {},
   "source": [
    "### League in an interactive `density` plot"
   ]
  },
  {
   "cell_type": "code",
   "execution_count": 53,
   "metadata": {
    "collapsed": false
   },
   "outputs": [
    {
     "data": {
      "text/html": [
       "<iframe id=\"igraph\" scrolling=\"no\" style=\"border:none;\"seamless=\"seamless\" src=\"https://plot.ly/~iamaziz/727.embed\" height=\"525px\" width=\"100%\"></iframe>"
      ],
      "text/plain": [
       "<plotly.tools.PlotlyDisplay object>"
      ]
     },
     "execution_count": 53,
     "metadata": {},
     "output_type": "execute_result"
    }
   ],
   "source": [
    "py.iplot_mpl(figs_kde[0])"
   ]
  },
  {
   "cell_type": "code",
   "execution_count": 49,
   "metadata": {
    "collapsed": false
   },
   "outputs": [
    {
     "data": {
      "text/html": [
       "<iframe id=\"igraph\" scrolling=\"no\" style=\"border:none;\"seamless=\"seamless\" src=\"https://plot.ly/~iamaziz/719.embed\" height=\"525px\" width=\"100%\"></iframe>"
      ],
      "text/plain": [
       "<plotly.tools.PlotlyDisplay object>"
      ]
     },
     "execution_count": 49,
     "metadata": {},
     "output_type": "execute_result"
    }
   ],
   "source": [
    "py.iplot_mpl(figs_kde[1])"
   ]
  },
  {
   "cell_type": "code",
   "execution_count": 50,
   "metadata": {
    "collapsed": false
   },
   "outputs": [
    {
     "data": {
      "text/html": [
       "<iframe id=\"igraph\" scrolling=\"no\" style=\"border:none;\"seamless=\"seamless\" src=\"https://plot.ly/~iamaziz/721.embed\" height=\"525px\" width=\"100%\"></iframe>"
      ],
      "text/plain": [
       "<plotly.tools.PlotlyDisplay object>"
      ]
     },
     "execution_count": 50,
     "metadata": {},
     "output_type": "execute_result"
    }
   ],
   "source": [
    "py.iplot_mpl(figs_kde[2])"
   ]
  },
  {
   "cell_type": "code",
   "execution_count": 51,
   "metadata": {
    "collapsed": false
   },
   "outputs": [
    {
     "data": {
      "text/html": [
       "<iframe id=\"igraph\" scrolling=\"no\" style=\"border:none;\"seamless=\"seamless\" src=\"https://plot.ly/~iamaziz/723.embed\" height=\"525px\" width=\"100%\"></iframe>"
      ],
      "text/plain": [
       "<plotly.tools.PlotlyDisplay object>"
      ]
     },
     "execution_count": 51,
     "metadata": {},
     "output_type": "execute_result"
    }
   ],
   "source": [
    "py.iplot_mpl(figs_kde[3])"
   ]
  },
  {
   "cell_type": "code",
   "execution_count": 52,
   "metadata": {
    "collapsed": false
   },
   "outputs": [
    {
     "data": {
      "text/html": [
       "<iframe id=\"igraph\" scrolling=\"no\" style=\"border:none;\"seamless=\"seamless\" src=\"https://plot.ly/~iamaziz/725.embed\" height=\"525px\" width=\"100%\"></iframe>"
      ],
      "text/plain": [
       "<plotly.tools.PlotlyDisplay object>"
      ]
     },
     "execution_count": 52,
     "metadata": {},
     "output_type": "execute_result"
    }
   ],
   "source": [
    "py.iplot_mpl(figs_kde[4])"
   ]
  },
  {
   "cell_type": "markdown",
   "metadata": {},
   "source": [
    "<hr>\n",
    "# How?"
   ]
  },
  {
   "cell_type": "markdown",
   "metadata": {},
   "source": [
    "## 1. Scrape the leagues standings data tables into DataFrames"
   ]
  },
  {
   "cell_type": "code",
   "execution_count": 7,
   "metadata": {
    "collapsed": false
   },
   "outputs": [],
   "source": [
    "from bs4 import BeautifulSoup as bs\n",
    "import requests\n",
    "import pandas as pd"
   ]
  },
  {
   "cell_type": "code",
   "execution_count": 8,
   "metadata": {
    "collapsed": true
   },
   "outputs": [],
   "source": [
    "urls = {\n",
    "    'La Liga' : 'http://www.goal.com/en/tables/primera-divisi%C3%B3n/7',\n",
    "    'Bundesliga':'http://www.goal.com/en/tables/bundesliga/9?ICID=SP_TN_112',\n",
    "    'Premier League':'http://www.goal.com/en/tables/premier-league/8?ICID=TA',\n",
    "    'Serie A':'http://www.goal.com/en/tables/serie-a/13?ICID=SP_TN_114',\n",
    "    'Ligue 1':'http://www.goal.com/en/tables/ligue-1/16?ICID=SP_TN_114',\n",
    "}"
   ]
  },
  {
   "cell_type": "code",
   "execution_count": 9,
   "metadata": {
    "collapsed": false
   },
   "outputs": [],
   "source": [
    "def scrape_table(url):\n",
    "    '''input: league url, return: a list of teams' standings list '''\n",
    "    \n",
    "    data = requests.get(url).text\n",
    "    so = bs(data)\n",
    "    table = so.find('table', class_='short')\n",
    "    standings = table.findChild('tbody')\n",
    "    teams_html = standings.findAll('tr')\n",
    "    \n",
    "    teams = []\n",
    "    for i, team in enumerate(teams_html):\n",
    "        t = []\n",
    "        for d in team.findChildren('td'):\n",
    "            data = str(d.text.strip().encode('ascii', 'ignore'))\n",
    "            # aggregate a team standings\n",
    "            t.append(data)\n",
    "        # remove empty string from the standings list\n",
    "        t = [x for x in t if x]\n",
    "        # add team standings into a list\n",
    "        teams.append(t)\n",
    "\n",
    "    return teams"
   ]
  },
  {
   "cell_type": "code",
   "execution_count": 10,
   "metadata": {
    "collapsed": false
   },
   "outputs": [],
   "source": [
    "def to_df(teams):\n",
    "    \"\"\"create dataframe from the teams' standings lists\"\"\"\n",
    "\n",
    "    cols = ['pos','full_name', 'Team', 'PtsF', 'P', 'W', 'D', 'L', 'WH','DH', 'LH', 'WA','DA','LA', 'GS', 'GA', 'Diff', 'Pts']\n",
    "    df = pd.DataFrame(columns=cols)\n",
    "\n",
    "    for i, team in enumerate(teams):\n",
    "        df.loc[i] = team\n",
    "        \n",
    "    return df"
   ]
  },
  {
   "cell_type": "code",
   "execution_count": 11,
   "metadata": {
    "collapsed": true
   },
   "outputs": [],
   "source": [
    "def remove_cols(df):\n",
    "    # remove un-needed cols\n",
    "    useless = ['pos', 'full_name', 'PtsF', 'WH', 'WA', 'DH', 'DA', 'LH', 'LA'] #, 'diff']\n",
    "    for u in useless:\n",
    "        del df['{}'.format(u)]\n",
    "\n",
    "def apply_int(df):\n",
    "    # convert cols type from str to int (for plotting)\n",
    "    for c in df.columns:\n",
    "        df[c] = df[c].apply(int)\n",
    "    return df"
   ]
  },
  {
   "cell_type": "code",
   "execution_count": 12,
   "metadata": {
    "collapsed": false
   },
   "outputs": [],
   "source": [
    "def league_df(url):\n",
    "    \"\"\"return {league : dataframe_table}\"\"\"\n",
    "    \n",
    "    teams = scrape_table(url)\n",
    "\n",
    "    df = to_df(teams)\n",
    "\n",
    "    # concate 'position' and 'team'\n",
    "    df['Team'] = ['{}-{}'.format(p, t) for p, t in zip(df['pos'], df['Team'])]\n",
    "\n",
    "    # remove un-usefull columns\n",
    "    remove_cols(df)\n",
    "\n",
    "    # set team name as the df index\n",
    "    df = df.set_index('Team')\n",
    "\n",
    "    # set columns to int values\n",
    "    df = apply_int(df)\n",
    "    \n",
    "    return df"
   ]
  },
  {
   "cell_type": "markdown",
   "metadata": {},
   "source": [
    "#### Collect data in a dict as `{league:its_table_data_frame}`"
   ]
  },
  {
   "cell_type": "code",
   "execution_count": 13,
   "metadata": {
    "collapsed": false
   },
   "outputs": [],
   "source": [
    "leagues = {}\n",
    "for league, url in urls.items():\n",
    "    df = league_df(url)\n",
    "    leagues[league] = df"
   ]
  },
  {
   "cell_type": "code",
   "execution_count": 14,
   "metadata": {
    "collapsed": false
   },
   "outputs": [
    {
     "name": "stdout",
     "output_type": "stream",
     "text": [
      "['Premier League', 'Bundesliga', 'Ligue 1', 'Serie A', 'La Liga']\n"
     ]
    }
   ],
   "source": [
    "print(leagues.keys())"
   ]
  },
  {
   "cell_type": "markdown",
   "metadata": {},
   "source": [
    "# 2. Interactive visualizing of league tables (using Plotly)"
   ]
  },
  {
   "cell_type": "code",
   "execution_count": 16,
   "metadata": {
    "collapsed": true
   },
   "outputs": [],
   "source": [
    "%matplotlib inline\n",
    "import matplotlib.pyplot as plt\n",
    "import matplotlib\n",
    "matplotlib.style.use('ggplot')"
   ]
  },
  {
   "cell_type": "code",
   "execution_count": 17,
   "metadata": {
    "collapsed": false
   },
   "outputs": [],
   "source": [
    "import numpy as np\n",
    "import plotly.plotly as py\n",
    "import plotly.graph_objs as go\n",
    "py.sign_in('username', 'api_key')"
   ]
  },
  {
   "cell_type": "markdown",
   "metadata": {},
   "source": [
    "## Bubble_2D"
   ]
  },
  {
   "cell_type": "code",
   "execution_count": 18,
   "metadata": {
    "collapsed": false
   },
   "outputs": [],
   "source": [
    "# ref: https://plot.ly/python/matplotlib-to-plotly-tutorial/#Bubble-Charts\n",
    "\n",
    "def bubble_2d(df, league='Soccer League'):\n",
    "    \n",
    "    mpl_fig = plt.figure()         # (!) set new mpl figure object\n",
    "    ax = mpl_fig.add_subplot(111)  # add axis\n",
    "\n",
    "    plt.xlabel('Points')\n",
    "    plt.ylabel('Goals Scored')\n",
    "    plt.title(league)\n",
    "\n",
    "    scatter = ax.scatter(\n",
    "        df['Pts'],\n",
    "        df['GS'],\n",
    "        c=df['GS'],        # using some color scale\n",
    "        s=np.sqrt(df['Pts']**5),\n",
    "        linewidths=2,\n",
    "        edgecolor='w',\n",
    "        alpha=0.6\n",
    "    )\n",
    "\n",
    "    for i_X, X in df.iterrows():\n",
    "        plt.text(\n",
    "            X['Pts'],\n",
    "            X['GS'],\n",
    "            i_X, # team name\n",
    "            size=8,\n",
    "            horizontalalignment='center'\n",
    "        )\n",
    "    return mpl_fig\n",
    "\n",
    "# # Test\n",
    "# fig = bubble_2d(df, league)\n",
    "# py.iplot_mpl(fig)"
   ]
  },
  {
   "cell_type": "markdown",
   "metadata": {},
   "source": [
    "#### Collect leagues' bubble_2d figures"
   ]
  },
  {
   "cell_type": "code",
   "execution_count": 30,
   "metadata": {
    "collapsed": false
   },
   "outputs": [],
   "source": [
    "figs_2d = []\n",
    "for l, d in leagues.items():\n",
    "    fig = bubble_2d(d, l)\n",
    "    figs_2d.append(fig)"
   ]
  },
  {
   "cell_type": "markdown",
   "metadata": {},
   "source": [
    "## bubble_3D"
   ]
  },
  {
   "cell_type": "code",
   "execution_count": 21,
   "metadata": {
    "collapsed": true
   },
   "outputs": [],
   "source": [
    "# https://plot.ly/~jorgesantos/402/cufflinks-bubble-3d-chart/\n",
    "\n",
    "def bubble_3d(df, league='Soccer League'):\n",
    "    \n",
    "    traces = []\n",
    "\n",
    "    for row in df.iterrows():\n",
    "        \n",
    "        team, score = row\n",
    "        \n",
    "        trace = go.Scatter3d(\n",
    "                x= score.GA,\n",
    "                y= score.Pts,\n",
    "                z= score.GS,\n",
    "            \n",
    "             marker= go.Marker(\n",
    "                    line=go.Line(\n",
    "                        width=0.5\n",
    "                    ),\n",
    "                    size= score.Pts * 1.5, # [bubble size],\n",
    "                    symbol='dot'\n",
    "                ),\n",
    "                opacity=0.7,\n",
    "                mode='markers',\n",
    "                name=team,\n",
    "                text= team, # [team names]\n",
    "            )\n",
    "        # add team's Scatter3d trace to list of Data\n",
    "        traces.append(trace)\n",
    "\n",
    "    data = go.Data(traces)\n",
    "\n",
    "    layout = go.Layout(\n",
    "        scene=go.Scene(\n",
    "            zaxis=go.ZAxis(\n",
    "                title='Goals Scored (z)',\n",
    "            ),\n",
    "            xaxis=go.XAxis(\n",
    "                title='Goals Against (x)',\n",
    "            ),\n",
    "            yaxis=go.YAxis(\n",
    "                title='Points (y)'\n",
    "            ),\n",
    "        ),\n",
    "        title=league\n",
    "    )\n",
    "\n",
    "    fig = go.Figure(data=data, layout=layout)\n",
    "    return fig"
   ]
  },
  {
   "cell_type": "markdown",
   "metadata": {},
   "source": [
    "#### Collect leagues' bubble_3d figures"
   ]
  },
  {
   "cell_type": "code",
   "execution_count": 22,
   "metadata": {
    "collapsed": false
   },
   "outputs": [],
   "source": [
    "figs_3d = []\n",
    "for l, d in leagues.items():\n",
    "    fig = bubble_3d(d, l)\n",
    "    figs_3d.append(fig)"
   ]
  },
  {
   "cell_type": "markdown",
   "metadata": {},
   "source": [
    "## Boxplot"
   ]
  },
  {
   "cell_type": "code",
   "execution_count": 24,
   "metadata": {
    "collapsed": false
   },
   "outputs": [],
   "source": [
    "# ref: https://plot.ly/python/box-plots/\n",
    "\n",
    "def boxplot(df, league='Soccer League'):\n",
    "\n",
    "    traces = []\n",
    "    for c in [a for a in df.columns if a is not 'P']:\n",
    "        trace = go.Box(\n",
    "            y = df[c].values,\n",
    "            name = c,\n",
    "        )\n",
    "        traces.append(trace)\n",
    "    data = go.Data(traces)\n",
    "    layout = go.Layout(\n",
    "        title=league\n",
    "    )\n",
    "    fig = go.Figure(data=data, layout=layout)\n",
    "    return fig\n",
    "\n",
    "# # TEST\n",
    "# fig = boxplot(df, 'La Liga')\n",
    "# py.iplot(fig)"
   ]
  },
  {
   "cell_type": "markdown",
   "metadata": {},
   "source": [
    "#### Collect leagues' boxplot figures"
   ]
  },
  {
   "cell_type": "code",
   "execution_count": 25,
   "metadata": {
    "collapsed": false
   },
   "outputs": [],
   "source": [
    "figs_box = []\n",
    "for l, d in leagues.items():\n",
    "    fig = boxplot(d, l)\n",
    "    figs_box.append(fig)"
   ]
  },
  {
   "cell_type": "markdown",
   "metadata": {},
   "source": [
    "## Densities"
   ]
  },
  {
   "cell_type": "code",
   "execution_count": 27,
   "metadata": {
    "collapsed": false
   },
   "outputs": [],
   "source": [
    "def density(df, league):\n",
    "    fig, ax = plt.subplots()\n",
    "    cols = [c for c in df.columns if c is not 'P']\n",
    "    df = df[cols]\n",
    "    df.plot(kind='kde', ax=ax, title=league)\n",
    "    return fig\n",
    "\n",
    "# # Test\n",
    "# fig = density(df, league)\n",
    "# py.iplot_mpl(fig)"
   ]
  },
  {
   "cell_type": "markdown",
   "metadata": {},
   "source": [
    "#### Collect leagues' density figures"
   ]
  },
  {
   "cell_type": "code",
   "execution_count": 31,
   "metadata": {
    "collapsed": false
   },
   "outputs": [],
   "source": [
    "figs_kde = []\n",
    "for l, d in leagues.items():\n",
    "    fig = density(d, l)\n",
    "    figs_kde.append(fig)"
   ]
  }
 ],
 "metadata": {
  "kernelspec": {
   "display_name": "Python 2",
   "language": "python",
   "name": "python2"
  },
  "language_info": {
   "codemirror_mode": {
    "name": "ipython",
    "version": 2
   },
   "file_extension": ".py",
   "mimetype": "text/x-python",
   "name": "python",
   "nbconvert_exporter": "python",
   "pygments_lexer": "ipython2",
   "version": "2.7.10"
  }
 },
 "nbformat": 4,
 "nbformat_minor": 0
}
